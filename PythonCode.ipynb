{
 "cells": [
  {
   "cell_type": "code",
   "execution_count": null,
   "id": "16272e30",
   "metadata": {},
   "outputs": [],
   "source": [
    "# Just Coverting Visitng Cards into Excel Data"
   ]
  },
  {
   "cell_type": "code",
   "execution_count": null,
   "id": "fc813566",
   "metadata": {},
   "outputs": [],
   "source": [
    "import pytesseract\n",
    "from PIL import Image\n",
    "import pandas as pd\n",
    "import re\n",
    "import os\n",
    "import cv2\n",
    "\n",
    "# Set Tesseract path for macOS (Homebrew)\n",
    "pytesseract.pytesseract.tesseract_cmd = \"/opt/homebrew/bin/tesseract\""
   ]
  },
  {
   "cell_type": "code",
   "execution_count": null,
   "id": "71c4975f",
   "metadata": {},
   "outputs": [],
   "source": [
    "def extract_text(image_path):\n",
    "    image_cv = cv2.imread(image_path)\n",
    "    gray = cv2.cvtColor(image_cv, cv2.COLOR_BGR2GRAY)\n",
    "    gray = cv2.bilateralFilter(gray, 11, 17, 17)\n",
    "    thresh = cv2.adaptiveThreshold(\n",
    "        gray, 255, cv2.ADAPTIVE_THRESH_GAUSSIAN_C,\n",
    "        cv2.THRESH_BINARY, 11, 2\n",
    "    )\n",
    "    temp_path = \"/Users/rohithkumar/Desktop/temp_processed.png\"\n",
    "    cv2.imwrite(temp_path, thresh)\n",
    "    text = pytesseract.image_to_string(Image.open(temp_path), lang='eng', config='--psm 6')\n",
    "    return text"
   ]
  },
  {
   "cell_type": "code",
   "execution_count": null,
   "id": "bb0834b5",
   "metadata": {},
   "outputs": [],
   "source": [
    "def clean_text(raw_text):\n",
    "    cleaned = re.sub(r'[^A-Za-z.\\s]', '', raw_text)\n",
    "    cleaned = re.sub(r'\\s+', ' ', cleaned)\n",
    "    return cleaned.strip()\n",
    "\n",
    "def parse_details(text):\n",
    "    lines = [line.strip() for line in text.split('\\n') if line.strip()]\n",
    "    \n",
    "    name = \"N/A\"\n",
    "    designation = \"N/A\"\n",
    "    email = \"N/A\"\n",
    "    phone = \"N/A\"\n",
    "\n",
    "    email_pattern = re.compile(r'\\b[\\w\\.-]+@[\\w\\.-]+\\.\\w+\\b')\n",
    "    phone_pattern = re.compile(r'(\\+?\\d[\\d\\s\\-]{8,}\\d)')\n",
    "\n",
    "    for line in lines:\n",
    "        if email == \"N/A\":\n",
    "            match = email_pattern.search(line)\n",
    "            if match:\n",
    "                email = match.group()\n",
    "        if phone == \"N/A\":\n",
    "            match = phone_pattern.search(line)\n",
    "            if match:\n",
    "                phone = match.group()\n",
    "\n",
    "    for i, line in enumerate(lines):\n",
    "        if name == \"N/A\" and len(line.split()) >= 2:\n",
    "            name = clean_text(line)\n",
    "            # Look for designation - avoid junk/garbage\n",
    "            if i + 1 < len(lines):\n",
    "                desig_candidate = clean_text(lines[i + 1])\n",
    "                # Remove leading \"a \" or stray characters\n",
    "                desig_candidate = re.sub(r'^[aA]\\s+', '', desig_candidate)\n",
    "                # Use as designation only if it's alphabetic and long enough\n",
    "                if desig_candidate and desig_candidate[0].isupper() and len(desig_candidate) > 5:\n",
    "                    designation = desig_candidate\n",
    "            break\n",
    "\n",
    "    # Fallback: If any field is still blank or only whitespace, set to \"N/A\"\n",
    "    return {\n",
    "        \"Name\": name if name and name.strip() else \"N/A\",\n",
    "        \"Designation\": designation if designation and designation.strip() else \"N/A\",\n",
    "        \"Email\": email if email and email.strip() else \"N/A\",\n",
    "        \"Phone\": phone if phone and phone.strip() else \"N/A\"\n",
    "    }"
   ]
  },
  {
   "cell_type": "code",
   "execution_count": null,
   "id": "515d98ab",
   "metadata": {},
   "outputs": [],
   "source": [
    "def update_excel(data_dict, excel_path):\n",
    "    # Final dict clean: guarantee no blank strings\n",
    "    for k in data_dict:\n",
    "        val = data_dict[k]\n",
    "        if (val is None) or (not isinstance(val, str)) or (val.strip() == \"\"):\n",
    "            data_dict[k] = \"N/A\"\n",
    "    new_entry = pd.DataFrame([data_dict])\n",
    "    if os.path.exists(excel_path):\n",
    "        existing = pd.read_excel(excel_path)\n",
    "        updated = pd.concat([existing, new_entry], ignore_index=True)\n",
    "    else:\n",
    "        updated = new_entry\n",
    "    # Force \"N/A\" for any blank cell in the DataFrame before saving\n",
    "    updated = updated.fillna(\"N/A\").replace(r\"^\\s*$\", \"N/A\", regex=True)\n",
    "    updated.to_excel(excel_path, index=False)\n",
    "    print(f\"✅ Excel updated at: {excel_path}\")"
   ]
  },
  {
   "cell_type": "code",
   "execution_count": null,
   "id": "215dc1c0",
   "metadata": {},
   "outputs": [],
   "source": [
    "def process_visiting_card(image_path):\n",
    "    print(f\"\\n📄 Processing: {os.path.basename(image_path)}\")\n",
    "    text = extract_text(image_path)\n",
    "    details = parse_details(text)\n",
    "    print(\"Extracted:\", details)\n",
    "    update_excel(details, \"/Users/rohithkumar/Desktop/visiting_card_contacts.xlsx\")\n",
    "\n",
    "# Paths to your card images\n",
    "cards = [\n",
    "    \"/Users/rohithkumar/Desktop/Pic.png\",\n",
    "    \"/Users/rohithkumar/Desktop/Pics.png\",\n",
    "    \"/Users/rohithkumar/Desktop/picss.png\"\n",
    "]\n",
    "\n",
    "for card_path in cards:\n",
    "    process_visiting_card(card_path)"
   ]
  },
  {
   "cell_type": "code",
   "execution_count": null,
   "id": "06c966b1",
   "metadata": {},
   "outputs": [],
   "source": [
    "# Included Audio Feature"
   ]
  },
  {
   "cell_type": "code",
   "execution_count": 2,
   "id": "69049d37",
   "metadata": {},
   "outputs": [
    {
     "name": "stdout",
     "output_type": "stream",
     "text": [
      "\n",
      "📄 Processing: Pic.png\n"
     ]
    },
    {
     "name": "stderr",
     "output_type": "stream",
     "text": [
      "100%|███████████████████████████████████████| 461M/461M [00:10<00:00, 47.6MiB/s]\n",
      "/Users/rohithkumar/anaconda3/lib/python3.11/site-packages/whisper/__init__.py:150: FutureWarning: You are using `torch.load` with `weights_only=False` (the current default value), which uses the default pickle module implicitly. It is possible to construct malicious pickle data which will execute arbitrary code during unpickling (See https://github.com/pytorch/pytorch/blob/main/SECURITY.md#untrusted-models for more details). In a future release, the default value for `weights_only` will be flipped to `True`. This limits the functions that could be executed during unpickling. Arbitrary objects will no longer be allowed to be loaded via this mode unless they are explicitly allowlisted by the user via `torch.serialization.add_safe_globals`. We recommend you start setting `weights_only=True` for any use case where you don't have full control of the loaded file. Please open an issue on GitHub for any issues related to this experimental feature.\n",
      "  checkpoint = torch.load(fp, map_location=device)\n",
      "/Users/rohithkumar/anaconda3/lib/python3.11/site-packages/whisper/transcribe.py:126: UserWarning: FP16 is not supported on CPU; using FP32 instead\n",
      "  warnings.warn(\"FP16 is not supported on CPU; using FP32 instead\")\n"
     ]
    },
    {
     "name": "stdout",
     "output_type": "stream",
     "text": [
      "Extracted: {'Name': 'Saptarshi Mukhopadhyay', 'Designation': 'Seer Pad Manager Age', 'Email': 'N/A', 'Phone': 'N/A', 'Comments': 'This is the command for the pick 3 which is the last pick. I need it to be updated properly in the excel sheet and it should be good.'}\n",
      "✅ Excel updated at: /Users/rohithkumar/Desktop/visiting_card_contacts.xlsx\n",
      "\n",
      "📄 Processing: Pics.png\n"
     ]
    },
    {
     "name": "stderr",
     "output_type": "stream",
     "text": [
      "/Users/rohithkumar/anaconda3/lib/python3.11/site-packages/whisper/__init__.py:150: FutureWarning: You are using `torch.load` with `weights_only=False` (the current default value), which uses the default pickle module implicitly. It is possible to construct malicious pickle data which will execute arbitrary code during unpickling (See https://github.com/pytorch/pytorch/blob/main/SECURITY.md#untrusted-models for more details). In a future release, the default value for `weights_only` will be flipped to `True`. This limits the functions that could be executed during unpickling. Arbitrary objects will no longer be allowed to be loaded via this mode unless they are explicitly allowlisted by the user via `torch.serialization.add_safe_globals`. We recommend you start setting `weights_only=True` for any use case where you don't have full control of the loaded file. Please open an issue on GitHub for any issues related to this experimental feature.\n",
      "  checkpoint = torch.load(fp, map_location=device)\n",
      "/Users/rohithkumar/anaconda3/lib/python3.11/site-packages/whisper/transcribe.py:126: UserWarning: FP16 is not supported on CPU; using FP32 instead\n",
      "  warnings.warn(\"FP16 is not supported on CPU; using FP32 instead\")\n"
     ]
    },
    {
     "name": "stdout",
     "output_type": "stream",
     "text": [
      "Extracted: {'Name': 'KimberlyiNguyen', 'Designation': 'GenerallDoctor', 'Email': 'hello@reallygreatsite.com', 'Phone': '123-456-7890', 'Comments': 'This is the comment for the picture 2 which is PIX, I think they should be updated in Excel sheet.'}\n",
      "✅ Excel updated at: /Users/rohithkumar/Desktop/visiting_card_contacts.xlsx\n",
      "\n",
      "📄 Processing: picss.png\n"
     ]
    },
    {
     "name": "stderr",
     "output_type": "stream",
     "text": [
      "/Users/rohithkumar/anaconda3/lib/python3.11/site-packages/whisper/__init__.py:150: FutureWarning: You are using `torch.load` with `weights_only=False` (the current default value), which uses the default pickle module implicitly. It is possible to construct malicious pickle data which will execute arbitrary code during unpickling (See https://github.com/pytorch/pytorch/blob/main/SECURITY.md#untrusted-models for more details). In a future release, the default value for `weights_only` will be flipped to `True`. This limits the functions that could be executed during unpickling. Arbitrary objects will no longer be allowed to be loaded via this mode unless they are explicitly allowlisted by the user via `torch.serialization.add_safe_globals`. We recommend you start setting `weights_only=True` for any use case where you don't have full control of the loaded file. Please open an issue on GitHub for any issues related to this experimental feature.\n",
      "  checkpoint = torch.load(fp, map_location=device)\n",
      "/Users/rohithkumar/anaconda3/lib/python3.11/site-packages/whisper/transcribe.py:126: UserWarning: FP16 is not supported on CPU; using FP32 instead\n",
      "  warnings.warn(\"FP16 is not supported on CPU; using FP32 instead\")\n"
     ]
    },
    {
     "name": "stdout",
     "output_type": "stream",
     "text": [
      "Extracted: {'Name': 'Dr. Dani Martinez', 'Designation': 'Marketing Manager oS', 'Email': 'hello@reallygreatsite.com', 'Phone': '123-456-7890', 'Comments': 'I think this is the comment for the pic one and this is the first picture.'}\n",
      "✅ Excel updated at: /Users/rohithkumar/Desktop/visiting_card_contacts.xlsx\n"
     ]
    }
   ],
   "source": [
    "import pytesseract\n",
    "from PIL import Image\n",
    "import pandas as pd\n",
    "import re\n",
    "import os\n",
    "import cv2\n",
    "import whisper  # OpenAI's Whisper ASR\n",
    "\n",
    "# Set Tesseract path for macOS\n",
    "pytesseract.pytesseract.tesseract_cmd = \"/opt/homebrew/bin/tesseract\"\n",
    "\n",
    "# Card OCR extraction\n",
    "def extract_text(image_path):\n",
    "    image_cv = cv2.imread(image_path)\n",
    "    gray = cv2.cvtColor(image_cv, cv2.COLOR_BGR2GRAY)\n",
    "    gray = cv2.bilateralFilter(gray, 11, 17, 17)\n",
    "    thresh = cv2.adaptiveThreshold(gray, 255, cv2.ADAPTIVE_THRESH_GAUSSIAN_C, cv2.THRESH_BINARY, 11, 2)\n",
    "    temp_path = \"/Users/rohithkumar/Desktop/temp_processed.png\"\n",
    "    cv2.imwrite(temp_path, thresh)\n",
    "    text = pytesseract.image_to_string(Image.open(temp_path), lang='eng', config='--psm 6')\n",
    "    return text\n",
    "\n",
    "def clean_text(raw_text):\n",
    "    cleaned = re.sub(r'[^A-Za-z.\\s]', '', raw_text)\n",
    "    cleaned = re.sub(r'\\s+', ' ', cleaned)\n",
    "    return cleaned.strip()\n",
    "\n",
    "def parse_details(text):\n",
    "    lines = [line.strip() for line in text.split('\\n') if line.strip()]\n",
    "    name = \"N/A\"\n",
    "    designation = \"N/A\"\n",
    "    email = \"N/A\"\n",
    "    phone = \"N/A\"\n",
    "    email_pattern = re.compile(r'\\b[\\w\\.-]+@[\\w\\.-]+\\.\\w+\\b')\n",
    "    phone_pattern = re.compile(r'(\\+?\\d[\\d\\s\\-]{8,}\\d)')\n",
    "    for line in lines:\n",
    "        if email == \"N/A\":\n",
    "            match = email_pattern.search(line)\n",
    "            if match:\n",
    "                email = match.group()\n",
    "        if phone == \"N/A\":\n",
    "            match = phone_pattern.search(line)\n",
    "            if match:\n",
    "                phone = match.group()\n",
    "    for i, line in enumerate(lines):\n",
    "        if name == \"N/A\" and len(line.split()) >= 2:\n",
    "            name = clean_text(line)\n",
    "            # Look for designation - avoid junk/garbage\n",
    "            if i + 1 < len(lines):\n",
    "                desig_candidate = clean_text(lines[i + 1])\n",
    "                desig_candidate = re.sub(r'^[aA]\\s+', '', desig_candidate)\n",
    "                if desig_candidate and desig_candidate[0].isupper() and len(desig_candidate) > 5:\n",
    "                    designation = desig_candidate\n",
    "            break\n",
    "    return {\n",
    "        \"Name\": name if name and name.strip() else \"N/A\",\n",
    "        \"Designation\": designation if designation and designation.strip() else \"N/A\",\n",
    "        \"Email\": email if email and email.strip() else \"N/A\",\n",
    "        \"Phone\": phone if phone and phone.strip() else \"N/A\"\n",
    "    }\n",
    "\n",
    "def transcribe_voice(audio_path):\n",
    "    # Loads the small Whisper model (you can use 'base', 'small', 'medium', 'large' for better accuracy)\n",
    "    model = whisper.load_model(\"small\")\n",
    "    result = model.transcribe(audio_path)\n",
    "    text = result[\"text\"].strip()\n",
    "    return text if text else \"N/A\"\n",
    "\n",
    "def update_excel(data_dict, excel_path):\n",
    "    for k in data_dict:\n",
    "        val = data_dict[k]\n",
    "        if (val is None) or (not isinstance(val, str)) or (val.strip() == \"\"):\n",
    "            data_dict[k] = \"N/A\"\n",
    "    new_entry = pd.DataFrame([data_dict])\n",
    "    if os.path.exists(excel_path):\n",
    "        existing = pd.read_excel(excel_path)\n",
    "        updated = pd.concat([existing, new_entry], ignore_index=True)\n",
    "    else:\n",
    "        updated = new_entry\n",
    "    updated = updated.fillna(\"N/A\").replace(r\"^\\s*$\", \"N/A\", regex=True)\n",
    "    updated.to_excel(excel_path, index=False)\n",
    "    print(f\"✅ Excel updated at: {excel_path}\")\n",
    "\n",
    "def process_visiting_card(image_path, audio_path=None):\n",
    "    print(f\"\\n📄 Processing: {os.path.basename(image_path)}\")\n",
    "    text = extract_text(image_path)\n",
    "    details = parse_details(text)\n",
    "    # Transcribe comment if audio provided\n",
    "    if audio_path and os.path.exists(audio_path):\n",
    "        comment = transcribe_voice(audio_path)\n",
    "    else:\n",
    "        comment = \"N/A\"\n",
    "    details[\"Comments\"] = comment\n",
    "    print(\"Extracted:\", details)\n",
    "    update_excel(details, \"/Users/rohithkumar/Desktop/visiting_card_contacts.xlsx\")\n",
    "\n",
    "# Example usage:\n",
    "cards_and_audio = [\n",
    "    (\"/Users/rohithkumar/Desktop/Pic.png\", \"/Users/rohithkumar/Desktop/Pic.mp3\"),\n",
    "    (\"/Users/rohithkumar/Desktop/Pics.png\", \"/Users/rohithkumar/Desktop/Pics.mp3\"),\n",
    "    (\"/Users/rohithkumar/Desktop/picss.png\", \"/Users/rohithkumar/Desktop/picss.mp3\")\n",
    "]\n",
    "\n",
    "for img_path, aud_path in cards_and_audio:\n",
    "    process_visiting_card(img_path, aud_path)"
   ]
  },
  {
   "cell_type": "code",
   "execution_count": null,
   "id": "a7ae174e",
   "metadata": {},
   "outputs": [],
   "source": []
  }
 ],
 "metadata": {
  "kernelspec": {
   "display_name": "Python 3 (ipykernel)",
   "language": "python",
   "name": "python3"
  },
  "language_info": {
   "codemirror_mode": {
    "name": "ipython",
    "version": 3
   },
   "file_extension": ".py",
   "mimetype": "text/x-python",
   "name": "python",
   "nbconvert_exporter": "python",
   "pygments_lexer": "ipython3",
   "version": "3.11.4"
  }
 },
 "nbformat": 4,
 "nbformat_minor": 5
}
